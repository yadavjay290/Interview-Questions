{
 "cells": [
  {
   "cell_type": "code",
   "execution_count": 1,
   "id": "73d3946a",
   "metadata": {},
   "outputs": [],
   "source": [
    "import numpy as np\n",
    "import pandas as pd\n"
   ]
  },
  {
   "cell_type": "markdown",
   "id": "c6ca3ab4",
   "metadata": {},
   "source": [
    "### Create a list of number 1 to 10 \n",
    "create 2 empty list.L1=[]¶\n",
    "L2=[]\n",
    "Create a pprogram / function so that #L1 Even , L2 Odd Numbers.\n",
    "\n",
    "create any dictionary with 4 key value pair.\n",
    "\n",
    "print all the values of the dictionary as a list.\n",
    "\n",
    "Write a Program to reverse a string.\n",
    "\n",
    "Write a Program to tell the count of a string.\n",
    "\n",
    "####### a= 10, b= 20, c= 15\n",
    "#write a logic to check the smallest of the three\n",
    "df_dict = {'CUSTID': ['98981', '897892','32323','98900','98981'],\n",
    "           'CamapignID': ['C1', 'C2','C3','C1', 'C1'],\n",
    "           'Units Purchased':[2,1,7,4,2]}\n",
    "           \n",
    "make a dataframe df1 of this dictionary.\n",
    "#calclate the total units purchased for each CampaignID\n",
    "#Exclude c2 from df1 and then calclate the total units purchased for each CampaignID\n",
    "\n",
    "#create new column \"Flag\" condition, if units purchased >6 a1; 3,5 - a2  ; remaining a3\n",
    "\n",
    "#\"Flag\" condition; if units purchased >6 a1; 3,5 - a2  ; remaining a3\n",
    "\n",
    "import pandas as pd\n",
    "df = pd.DataFrame()\n",
    "df['marks'] = [ 12, 19, 24, 13, 24.5, 8, 23, 21.2 ]\n",
    "\n",
    "####### Task: Normalize 'marks' column and assigned the values to a new column in the dataframe df\n",
    "\n",
    "####### make another coulum and that must contain the Normalized value of marks column such that \n",
    "the normalised range must be 0 to 1.\n",
    "\n",
    "####### make another coulum and that must contain the Normalized value of marks column such that \n",
    "the normalised range must be 1 to 5."
   ]
  },
  {
   "cell_type": "code",
   "execution_count": 2,
   "id": "d6e3bc02",
   "metadata": {},
   "outputs": [
    {
     "data": {
      "text/plain": [
       "[1, 2, 3, 4, 5, 6, 7, 8, 9, 10]"
      ]
     },
     "execution_count": 2,
     "metadata": {},
     "output_type": "execute_result"
    }
   ],
   "source": [
    "list=[1, 2, 3, 4, 5, 6, 7, 8, 9, 10]\n",
    "list\n"
   ]
  },
  {
   "cell_type": "code",
   "execution_count": 3,
   "id": "645d1a91",
   "metadata": {},
   "outputs": [],
   "source": [
    "L1 = []\n",
    "L2 = []\n"
   ]
  },
  {
   "cell_type": "code",
   "execution_count": 4,
   "id": "57399897",
   "metadata": {},
   "outputs": [],
   "source": [
    "def separate_even_odd_numbers(numbers):\n",
    "    L1 = []  # List to store even numbers\n",
    "    L2 = []  # List to store odd numbers\n",
    "    \n",
    "    for num in numbers:\n",
    "        if num % 2 == 0:\n",
    "            L1.append(num)  # Append even numbers to L1\n",
    "        else:\n",
    "            L2.append(num)  # Append odd numbers to L2\n",
    "    \n",
    "    return L1, L2  # Return the two lists\n"
   ]
  },
  {
   "cell_type": "code",
   "execution_count": 5,
   "id": "b26f312c",
   "metadata": {},
   "outputs": [
    {
     "name": "stdout",
     "output_type": "stream",
     "text": [
      "Even numbers:  [2, 4, 6, 8, 10]\n",
      "Odd numbers:  [1, 3, 5, 7, 9]\n"
     ]
    }
   ],
   "source": [
    "numbers = [1, 2, 3, 4, 5, 6, 7, 8, 9, 10]\n",
    "even_numbers, odd_numbers = separate_even_odd_numbers(numbers)\n",
    "\n",
    "print(\"Even numbers: \", even_numbers)\n",
    "print(\"Odd numbers: \", odd_numbers)\n"
   ]
  },
  {
   "cell_type": "code",
   "execution_count": 6,
   "id": "44a78699",
   "metadata": {},
   "outputs": [
    {
     "name": "stdout",
     "output_type": "stream",
     "text": [
      "Name:  John\n",
      "Age:  30\n",
      "City:  New York\n",
      "Gender:  male\n"
     ]
    }
   ],
   "source": [
    "my_dict = {\n",
    "    \"name\": \"John\",\n",
    "    \"age\": 30,\n",
    "    \"city\": \"New York\",\n",
    "    \"gender\": \"male\"\n",
    "}\n",
    "print(\"Name: \", my_dict[\"name\"])\n",
    "print(\"Age: \", my_dict[\"age\"])\n",
    "print(\"City: \", my_dict[\"city\"])\n",
    "print(\"Gender: \", my_dict[\"gender\"])\n"
   ]
  },
  {
   "cell_type": "code",
   "execution_count": 7,
   "id": "f9847274",
   "metadata": {},
   "outputs": [
    {
     "ename": "TypeError",
     "evalue": "'list' object is not callable",
     "output_type": "error",
     "traceback": [
      "\u001b[1;31m---------------------------------------------------------------------------\u001b[0m",
      "\u001b[1;31mTypeError\u001b[0m                                 Traceback (most recent call last)",
      "Input \u001b[1;32mIn [7]\u001b[0m, in \u001b[0;36m<cell line: 9>\u001b[1;34m()\u001b[0m\n\u001b[0;32m      1\u001b[0m my_dict \u001b[38;5;241m=\u001b[39m {\n\u001b[0;32m      2\u001b[0m     \u001b[38;5;124m\"\u001b[39m\u001b[38;5;124mname\u001b[39m\u001b[38;5;124m\"\u001b[39m: \u001b[38;5;124m\"\u001b[39m\u001b[38;5;124mJohn\u001b[39m\u001b[38;5;124m\"\u001b[39m,\n\u001b[0;32m      3\u001b[0m     \u001b[38;5;124m\"\u001b[39m\u001b[38;5;124mage\u001b[39m\u001b[38;5;124m\"\u001b[39m: \u001b[38;5;241m30\u001b[39m,\n\u001b[0;32m      4\u001b[0m     \u001b[38;5;124m\"\u001b[39m\u001b[38;5;124mcity\u001b[39m\u001b[38;5;124m\"\u001b[39m: \u001b[38;5;124m\"\u001b[39m\u001b[38;5;124mNew York\u001b[39m\u001b[38;5;124m\"\u001b[39m,\n\u001b[0;32m      5\u001b[0m     \u001b[38;5;124m\"\u001b[39m\u001b[38;5;124mgender\u001b[39m\u001b[38;5;124m\"\u001b[39m: \u001b[38;5;124m\"\u001b[39m\u001b[38;5;124mmale\u001b[39m\u001b[38;5;124m\"\u001b[39m\n\u001b[0;32m      6\u001b[0m }\n\u001b[0;32m      8\u001b[0m \u001b[38;5;66;03m# Get all the values as a list\u001b[39;00m\n\u001b[1;32m----> 9\u001b[0m values_list \u001b[38;5;241m=\u001b[39m \u001b[38;5;28;43mlist\u001b[39;49m\u001b[43m(\u001b[49m\u001b[43mmy_dict\u001b[49m\u001b[38;5;241;43m.\u001b[39;49m\u001b[43mvalues\u001b[49m\u001b[43m(\u001b[49m\u001b[43m)\u001b[49m\u001b[43m)\u001b[49m\n\u001b[0;32m     11\u001b[0m \u001b[38;5;66;03m# Print the values list\u001b[39;00m\n\u001b[0;32m     12\u001b[0m \u001b[38;5;28mprint\u001b[39m(\u001b[38;5;124m\"\u001b[39m\u001b[38;5;124mValues list: \u001b[39m\u001b[38;5;124m\"\u001b[39m, values_list)\n",
      "\u001b[1;31mTypeError\u001b[0m: 'list' object is not callable"
     ]
    }
   ],
   "source": [
    "my_dict = {\n",
    "    \"name\": \"John\",\n",
    "    \"age\": 30,\n",
    "    \"city\": \"New York\",\n",
    "    \"gender\": \"male\"\n",
    "}\n",
    "\n",
    "# Get all the values as a list\n",
    "values_list = list(my_dict.values())\n",
    "\n",
    "# Print the values list\n",
    "print(\"Values list: \", values_list)\n",
    "\n"
   ]
  },
  {
   "cell_type": "code",
   "execution_count": 9,
   "id": "2349472f",
   "metadata": {},
   "outputs": [
    {
     "ename": "TypeError",
     "evalue": "'list' object is not callable",
     "output_type": "error",
     "traceback": [
      "\u001b[1;31m---------------------------------------------------------------------------\u001b[0m",
      "\u001b[1;31mTypeError\u001b[0m                                 Traceback (most recent call last)",
      "Input \u001b[1;32mIn [9]\u001b[0m, in \u001b[0;36m<cell line: 28>\u001b[1;34m()\u001b[0m\n\u001b[0;32m     26\u001b[0m \u001b[38;5;66;03m# Example usage:\u001b[39;00m\n\u001b[0;32m     27\u001b[0m input_string \u001b[38;5;241m=\u001b[39m \u001b[38;5;124m\"\u001b[39m\u001b[38;5;124mHello, World!\u001b[39m\u001b[38;5;124m\"\u001b[39m\n\u001b[1;32m---> 28\u001b[0m reversed_string \u001b[38;5;241m=\u001b[39m \u001b[43mreverse_string\u001b[49m\u001b[43m(\u001b[49m\u001b[43minput_string\u001b[49m\u001b[43m)\u001b[49m\n\u001b[0;32m     29\u001b[0m \u001b[38;5;28mprint\u001b[39m(\u001b[38;5;124m\"\u001b[39m\u001b[38;5;124mInput string: \u001b[39m\u001b[38;5;124m\"\u001b[39m, input_string)\n\u001b[0;32m     30\u001b[0m \u001b[38;5;28mprint\u001b[39m(\u001b[38;5;124m\"\u001b[39m\u001b[38;5;124mReversed string: \u001b[39m\u001b[38;5;124m\"\u001b[39m, reversed_string)\n",
      "Input \u001b[1;32mIn [9]\u001b[0m, in \u001b[0;36mreverse_string\u001b[1;34m(input_string)\u001b[0m\n\u001b[0;32m      2\u001b[0m \u001b[38;5;124;03m\"\"\"\u001b[39;00m\n\u001b[0;32m      3\u001b[0m \u001b[38;5;124;03mThis function takes an input string and returns its reverse.\u001b[39;00m\n\u001b[0;32m      4\u001b[0m \u001b[38;5;124;03m\"\"\"\u001b[39;00m\n\u001b[0;32m      5\u001b[0m \u001b[38;5;66;03m# Convert the input string to a list of characters\u001b[39;00m\n\u001b[1;32m----> 6\u001b[0m chars \u001b[38;5;241m=\u001b[39m \u001b[38;5;28;43mlist\u001b[39;49m\u001b[43m(\u001b[49m\u001b[43minput_string\u001b[49m\u001b[43m)\u001b[49m\n\u001b[0;32m      8\u001b[0m \u001b[38;5;66;03m# Use two pointers to reverse the characters in-place\u001b[39;00m\n\u001b[0;32m      9\u001b[0m left \u001b[38;5;241m=\u001b[39m \u001b[38;5;241m0\u001b[39m\n",
      "\u001b[1;31mTypeError\u001b[0m: 'list' object is not callable"
     ]
    }
   ],
   "source": [
    "def reverse_string(input_string):\n",
    "    \"\"\"\n",
    "    This function takes an input string and returns its reverse.\n",
    "    \"\"\"\n",
    "    # Convert the input string to a list of characters\n",
    "    chars = list(input_string)\n",
    "    \n",
    "    # Use two pointers to reverse the characters in-place\n",
    "    left = 0\n",
    "    right = len(chars) - 1\n",
    "    \n",
    "    while left < right:\n",
    "        # Swap the characters at the left and right pointers\n",
    "        chars[left], chars[right] = chars[right], chars[left]\n",
    "        \n",
    "        # Move the pointers towards each other\n",
    "        left += 1\n",
    "        right -= 1\n",
    "    \n",
    "    # Convert the list of characters back to a string\n",
    "    reversed_string = ''.join(chars)\n",
    "    \n",
    "    return reversed_string\n",
    "\n",
    "\n",
    "# Example usage:\n",
    "input_string = \"Hello, World!\"\n",
    "reversed_string = reverse_string(input_string)\n",
    "print(\"Input string: \", input_string)\n",
    "print(\"Reversed string: \", reversed_string)\n"
   ]
  },
  {
   "cell_type": "code",
   "execution_count": 10,
   "id": "aec8bfcd",
   "metadata": {},
   "outputs": [
    {
     "name": "stdout",
     "output_type": "stream",
     "text": [
      "Input string:  Hello, Hello World!\n",
      "Substring:  Hello\n",
      "Count:  2\n"
     ]
    }
   ],
   "source": [
    "def count_substring(input_string, substring):\n",
    "    \"\"\"\n",
    "    This function takes an input string and a substring, and returns the count of occurrences of the substring in the input string.\n",
    "    \"\"\"\n",
    "    # Use the count() method to count occurrences of the substring in the input string\n",
    "    count = input_string.count(substring)\n",
    "    \n",
    "    return count\n",
    "\n",
    "\n",
    "# Example usage:\n",
    "input_string = \"Hello, Hello World!\"\n",
    "substring = \"Hello\"\n",
    "count = count_substring(input_string, substring)\n",
    "print(\"Input string: \", input_string)\n",
    "print(\"Substring: \", substring)\n",
    "print(\"Count: \", count)\n"
   ]
  },
  {
   "cell_type": "code",
   "execution_count": 8,
   "id": "b99738d7",
   "metadata": {},
   "outputs": [
    {
     "name": "stdout",
     "output_type": "stream",
     "text": [
      "Smallest number:  10\n"
     ]
    }
   ],
   "source": [
    "# Given numbers\n",
    "a = 10\n",
    "b = 20\n",
    "c = 15\n",
    "\n",
    "# Logic to find the smallest number\n",
    "smallest = a  # Assume a is the smallest\n",
    "\n",
    "if b < smallest:\n",
    "    smallest = b  # Update smallest if b is smaller\n",
    "\n",
    "if c < smallest:\n",
    "    smallest = c  # Update smallest if c is smaller\n",
    "\n",
    "# Print the smallest number\n",
    "print(\"Smallest number: \", smallest)\n"
   ]
  },
  {
   "cell_type": "code",
   "execution_count": 11,
   "id": "488baf52",
   "metadata": {},
   "outputs": [
    {
     "name": "stdout",
     "output_type": "stream",
     "text": [
      "Total units purchased by CampaignID (df1):\n",
      " CampaignID\n",
      "C1    8\n",
      "C2    1\n",
      "C3    7\n",
      "Name: Units Purchased, dtype: int64\n",
      "Total units purchased by CampaignID (df1 excluding C2):\n",
      " CampaignID\n",
      "C1    8\n",
      "C3    7\n",
      "Name: Units Purchased, dtype: int64\n"
     ]
    }
   ],
   "source": [
    "import pandas as pd\n",
    "\n",
    "# Given dictionary\n",
    "df_dict = {'CUSTID': ['98981', '897892', '32323', '98900', '98981'],\n",
    "           'CampaignID': ['C1', 'C2', 'C3', 'C1', 'C1'],\n",
    "           'Units Purchased': [2, 1, 7, 4, 2]}\n",
    "\n",
    "# Create DataFrame df1 from the dictionary\n",
    "df1 = pd.DataFrame(df_dict)\n",
    "\n",
    "# Calculate total units purchased for each CampaignID in df1\n",
    "total_units_by_campaign = df1.groupby('CampaignID')['Units Purchased'].sum()\n",
    "print(\"Total units purchased by CampaignID (df1):\\n\", total_units_by_campaign)\n",
    "\n",
    "# Exclude 'C2' from df1\n",
    "df1 = df1[df1['CampaignID'] != 'C2']\n",
    "\n",
    "# Calculate total units purchased for each CampaignID in df1 after excluding 'C2'\n",
    "total_units_by_campaign_excluding_c2 = df1.groupby('CampaignID')['Units Purchased'].sum()\n",
    "print(\"Total units purchased by CampaignID (df1 excluding C2):\\n\", total_units_by_campaign_excluding_c2)\n"
   ]
  },
  {
   "cell_type": "code",
   "execution_count": 12,
   "id": "bace2965",
   "metadata": {},
   "outputs": [
    {
     "name": "stdout",
     "output_type": "stream",
     "text": [
      "   CUSTID CampaignID  Units Purchased Flag\n",
      "0   98981         C1                2   a3\n",
      "1  897892         C2                1   a3\n",
      "2   32323         C3                7   a1\n",
      "3   98900         C1                4   a2\n",
      "4   98981         C1                2   a3\n"
     ]
    }
   ],
   "source": [
    "import pandas as pd\n",
    "\n",
    "# Given dictionary\n",
    "df_dict = {'CUSTID': ['98981', '897892', '32323', '98900', '98981'],\n",
    "           'CampaignID': ['C1', 'C2', 'C3', 'C1', 'C1'],\n",
    "           'Units Purchased': [2, 1, 7, 4, 2]}\n",
    "\n",
    "# Create DataFrame df1 from the dictionary\n",
    "df1 = pd.DataFrame(df_dict)\n",
    "\n",
    "# Define conditions for Flag column\n",
    "conditions = [\n",
    "    df1['Units Purchased'] > 6,\n",
    "    (df1['Units Purchased'] >= 3) & (df1['Units Purchased'] <= 5),\n",
    "    df1['Units Purchased'] <= 2\n",
    "]\n",
    "\n",
    "# Define corresponding values for Flag column\n",
    "values = ['a1', 'a2', 'a3']\n",
    "\n",
    "# Add Flag column to df1 based on conditions and values\n",
    "df1['Flag'] = pd.Series(np.select(conditions, values))\n",
    "\n",
    "# Print the updated df1 with Flag column\n",
    "print(df1)\n"
   ]
  },
  {
   "cell_type": "code",
   "execution_count": 13,
   "id": "7c0d48c0",
   "metadata": {},
   "outputs": [
    {
     "name": "stdout",
     "output_type": "stream",
     "text": [
      "   CUSTID CampaignID  Units Purchased Flag\n",
      "0   98981         C1                2   a3\n",
      "1  897892         C2                1   a3\n",
      "2   32323         C3                7   a1\n",
      "3   98900         C1                4   a2\n",
      "4   98981         C1                2   a3\n"
     ]
    }
   ],
   "source": [
    "import pandas as pd\n",
    "import numpy as np\n",
    "\n",
    "# Given dictionary\n",
    "df_dict = {'CUSTID': ['98981', '897892', '32323', '98900', '98981'],\n",
    "           'CampaignID': ['C1', 'C2', 'C3', 'C1', 'C1'],\n",
    "           'Units Purchased': [2, 1, 7, 4, 2]}\n",
    "\n",
    "# Create DataFrame df1 from the dictionary\n",
    "df1 = pd.DataFrame(df_dict)\n",
    "\n",
    "# Define conditions for Flag column\n",
    "conditions = [\n",
    "    df1['Units Purchased'] > 6,\n",
    "    (df1['Units Purchased'] >= 3) & (df1['Units Purchased'] <= 5),\n",
    "    df1['Units Purchased'] <= 2\n",
    "]\n",
    "\n",
    "# Define corresponding values for Flag column\n",
    "values = ['a1', 'a2', 'a3']\n",
    "\n",
    "# Add Flag column to df1 based on conditions and values\n",
    "df1['Flag'] = np.select(conditions, values, default='a3')  # Use 'a3' as default value for unmatched conditions\n",
    "\n",
    "# Print the updated df1 with Flag column\n",
    "print(df1)\n"
   ]
  },
  {
   "cell_type": "code",
   "execution_count": 16,
   "id": "fe23dbba",
   "metadata": {},
   "outputs": [
    {
     "data": {
      "text/html": [
       "<div>\n",
       "<style scoped>\n",
       "    .dataframe tbody tr th:only-of-type {\n",
       "        vertical-align: middle;\n",
       "    }\n",
       "\n",
       "    .dataframe tbody tr th {\n",
       "        vertical-align: top;\n",
       "    }\n",
       "\n",
       "    .dataframe thead th {\n",
       "        text-align: right;\n",
       "    }\n",
       "</style>\n",
       "<table border=\"1\" class=\"dataframe\">\n",
       "  <thead>\n",
       "    <tr style=\"text-align: right;\">\n",
       "      <th></th>\n",
       "      <th>marks</th>\n",
       "    </tr>\n",
       "  </thead>\n",
       "  <tbody>\n",
       "    <tr>\n",
       "      <th>0</th>\n",
       "      <td>12.0</td>\n",
       "    </tr>\n",
       "    <tr>\n",
       "      <th>1</th>\n",
       "      <td>19.0</td>\n",
       "    </tr>\n",
       "    <tr>\n",
       "      <th>2</th>\n",
       "      <td>24.0</td>\n",
       "    </tr>\n",
       "    <tr>\n",
       "      <th>3</th>\n",
       "      <td>13.0</td>\n",
       "    </tr>\n",
       "    <tr>\n",
       "      <th>4</th>\n",
       "      <td>24.5</td>\n",
       "    </tr>\n",
       "    <tr>\n",
       "      <th>5</th>\n",
       "      <td>8.0</td>\n",
       "    </tr>\n",
       "    <tr>\n",
       "      <th>6</th>\n",
       "      <td>23.0</td>\n",
       "    </tr>\n",
       "    <tr>\n",
       "      <th>7</th>\n",
       "      <td>21.2</td>\n",
       "    </tr>\n",
       "  </tbody>\n",
       "</table>\n",
       "</div>"
      ],
      "text/plain": [
       "   marks\n",
       "0   12.0\n",
       "1   19.0\n",
       "2   24.0\n",
       "3   13.0\n",
       "4   24.5\n",
       "5    8.0\n",
       "6   23.0\n",
       "7   21.2"
      ]
     },
     "execution_count": 16,
     "metadata": {},
     "output_type": "execute_result"
    }
   ],
   "source": [
    "import pandas as pd\n",
    "df = pd.DataFrame()\n",
    "df['marks'] = [ 12, 19, 24, 13, 24.5, 8, 23, 21.2 ]\n",
    "df"
   ]
  },
  {
   "cell_type": "code",
   "execution_count": 17,
   "id": "b36ca981",
   "metadata": {},
   "outputs": [
    {
     "name": "stdout",
     "output_type": "stream",
     "text": [
      "   marks  normalized_marks\n",
      "0   12.0          0.242424\n",
      "1   19.0          0.666667\n",
      "2   24.0          0.969697\n",
      "3   13.0          0.303030\n",
      "4   24.5          1.000000\n",
      "5    8.0          0.000000\n",
      "6   23.0          0.909091\n",
      "7   21.2          0.800000\n"
     ]
    }
   ],
   "source": [
    "import pandas as pd\n",
    "\n",
    "# Create DataFrame df\n",
    "df = pd.DataFrame()\n",
    "df['marks'] = [12, 19, 24, 13, 24.5, 8, 23, 21.2]\n",
    "\n",
    "# Define the minimum and maximum values for normalization\n",
    "min_val = df['marks'].min()\n",
    "max_val = df['marks'].max()\n",
    "\n",
    "# Apply Min-Max normalization to 'marks' column and store normalized values in 'normalized_marks' column\n",
    "df['normalized_marks'] = (df['marks'] - min_val) / (max_val - min_val)\n",
    "\n",
    "# Print the updated DataFrame df with the normalized values\n",
    "print(df)\n"
   ]
  },
  {
   "cell_type": "code",
   "execution_count": 18,
   "id": "64e6aa88",
   "metadata": {},
   "outputs": [
    {
     "name": "stdout",
     "output_type": "stream",
     "text": [
      "   marks  normalized_marks\n",
      "0   12.0          0.242424\n",
      "1   19.0          0.666667\n",
      "2   24.0          0.969697\n",
      "3   13.0          0.303030\n",
      "4   24.5          1.000000\n",
      "5    8.0          0.000000\n",
      "6   23.0          0.909091\n",
      "7   21.2          0.800000\n"
     ]
    }
   ],
   "source": [
    "import pandas as pd\n",
    "\n",
    "# Create DataFrame df\n",
    "df = pd.DataFrame()\n",
    "df['marks'] = [12, 19, 24, 13, 24.5, 8, 23, 21.2]\n",
    "\n",
    "# Define the minimum and maximum values for normalization\n",
    "min_val = df['marks'].min()\n",
    "max_val = df['marks'].max()\n",
    "\n",
    "# Apply Min-Max normalization to 'marks' column and store normalized values in 'normalized_marks' column\n",
    "df['normalized_marks'] = (df['marks'] - min_val) / (max_val - min_val)\n",
    "\n",
    "# Print the updated DataFrame df with the normalized values\n",
    "print(df)\n"
   ]
  },
  {
   "cell_type": "code",
   "execution_count": 19,
   "id": "f6d8bc66",
   "metadata": {},
   "outputs": [
    {
     "name": "stdout",
     "output_type": "stream",
     "text": [
      "   marks  normalized_marks\n",
      "0   12.0          1.969697\n",
      "1   19.0          3.666667\n",
      "2   24.0          4.878788\n",
      "3   13.0          2.212121\n",
      "4   24.5          5.000000\n",
      "5    8.0          1.000000\n",
      "6   23.0          4.636364\n",
      "7   21.2          4.200000\n"
     ]
    }
   ],
   "source": [
    "import pandas as pd\n",
    "\n",
    "# Create DataFrame df\n",
    "df = pd.DataFrame()\n",
    "df['marks'] = [12, 19, 24, 13, 24.5, 8, 23, 21.2]\n",
    "\n",
    "# Define the minimum and maximum values for normalization\n",
    "min_val = df['marks'].min()\n",
    "max_val = df['marks'].max()\n",
    "\n",
    "# Define the new minimum and maximum values for the normalized range\n",
    "new_min = 1\n",
    "new_max = 5\n",
    "\n",
    "# Apply Min-Max normalization to 'marks' column and store normalized values in 'normalized_marks' column\n",
    "df['normalized_marks'] = ((df['marks'] - min_val) / (max_val - min_val)) * (new_max - new_min) + new_min\n",
    "\n",
    "# Print the updated DataFrame df with the normalized values\n",
    "print(df)\n"
   ]
  },
  {
   "cell_type": "code",
   "execution_count": null,
   "id": "5d3f1088",
   "metadata": {},
   "outputs": [],
   "source": []
  }
 ],
 "metadata": {
  "kernelspec": {
   "display_name": "Python 3 (ipykernel)",
   "language": "python",
   "name": "python3"
  },
  "language_info": {
   "codemirror_mode": {
    "name": "ipython",
    "version": 3
   },
   "file_extension": ".py",
   "mimetype": "text/x-python",
   "name": "python",
   "nbconvert_exporter": "python",
   "pygments_lexer": "ipython3",
   "version": "3.9.12"
  }
 },
 "nbformat": 4,
 "nbformat_minor": 5
}
